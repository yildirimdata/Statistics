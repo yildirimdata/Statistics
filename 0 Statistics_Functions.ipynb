{
 "cells": [
  {
   "cell_type": "markdown",
   "id": "c03eebae-1057-4b4d-8918-627c93307d37",
   "metadata": {},
   "source": [
    "# Data Science icin istatistikte en çok kullanacağımız 5 kütüphane:\n",
    "\n",
    "1. NumPy https://numpy.org\n",
    "\n",
    "2. Pandas  https://pandas.pydata.org\n",
    "\n",
    "3. Scipy (Stats)  https://scipy.org (cok genis, bu nedenle stats'ını daha cok kullanacagız, sadece onu yuklemek yeter)\n",
    "\n",
    "4. Seaborn  !pip install seaborn https://seaborn.pydata.org\n",
    "\n",
    "5. Matploblib (görselleştirme kütüphanesi)  https://matplotlib.org"
   ]
  },
  {
   "cell_type": "code",
   "execution_count": null,
   "id": "07abcea7-37b4-4aaf-aa4a-6e7d1226238d",
   "metadata": {},
   "outputs": [],
   "source": []
  },
  {
   "cell_type": "markdown",
   "id": "8f448a95-1a04-475f-9b74-d5e2b475a9ed",
   "metadata": {},
   "source": [
    "# Python graph gallery \n",
    "\n",
    "\n",
    "https://www.python-graph-gallery.com"
   ]
  },
  {
   "cell_type": "code",
   "execution_count": 1,
   "id": "9ff8b4db-d7ab-455f-a2fc-14054d7ed200",
   "metadata": {},
   "outputs": [],
   "source": [
    "import numpy as np\n",
    "import seaborn as sns\n",
    "from scipy import stats"
   ]
  },
  {
   "cell_type": "markdown",
   "id": "870daead-6f34-4616-b2c9-a1e54f4eb64e",
   "metadata": {},
   "source": [
    "Mean - Median - Mode - Min - Max - Range - Q1 - Q2 - Q3 - IQR - Variance - STD - Skewness - Kurtosis"
   ]
  },
  {
   "cell_type": "code",
   "execution_count": 2,
   "id": "7faedf87-95ba-4279-b05f-a8e33b81897c",
   "metadata": {},
   "outputs": [
    {
     "name": "stdout",
     "output_type": "stream",
     "text": [
      "Mean of a is: 19.894736842105264\n",
      "Median of a is: 23.0\n",
      "Mode of a is: ModeResult(mode=array([23]), count=array([5]))\n",
      "Mode of a is: 23\n",
      "Minimum value of a is: 5\n",
      "Maximum value of a is: 25\n",
      "Range is:  20\n",
      "Q1 of a is: 20.0\n",
      "Q3 of a is: 23.5\n",
      "Q2 (Median) of a is: 23.0\n",
      "IQR of a is: 3.5\n",
      "Variance:  34.93628808864266\n",
      "Standard deviation of population is:  5.910692691101667\n",
      "Standard deviation of sample is:  6.0726594653789165\n",
      "SD from variance is:  5.910692691101667\n",
      "Skewness is: -1.5176315809887007\n",
      "Kurtosis is : 0.8528442245963328\n"
     ]
    }
   ],
   "source": [
    "a = [5,7,10,15,19,21,21,22,22,23,23,23,23,23,24,24,24,24,25]\n",
    "\n",
    "print(\"Mean of a is:\", np.mean(a))\n",
    "print(\"Median of a is:\", np.median(a))\n",
    "print(\"Mode of a is:\", stats.mode(a))\n",
    "print(\"Mode of a is:\", stats.mode(a)[0][0])\n",
    "print(\"Minimum value of a is:\", np.min(a)) \n",
    "print(\"Maximum value of a is:\", np.max(a)) \n",
    "print(\"Range is: \", (np.max(a)-np.min(a)))\n",
    "print(\"Q1 of a is:\", np.percentile(a,25))\n",
    "print(\"Q3 of a is:\", np.percentile(a,75))\n",
    "print(\"Q2 (Median) of a is:\", np.percentile(a,50))\n",
    "print(\"IQR of a is:\", stats.iqr(a))\n",
    "print(\"Variance: \", (np.var(a)))\n",
    "# Populasyon SD\n",
    "print(\"Standard deviation of population is: \", (np.std(a)))  # default olarak ddof 0\n",
    "# Sample SD (sadece küçük veri setlerinde işe yarar, büyükte gerek yok)\n",
    "print(\"Standard deviation of sample is: \", (np.std(a, ddof = 1)))\n",
    "# Varyanstan SDı hesaplayabliriz karekökünü alarak\n",
    "print(\"SD from variance is: \", np.sqrt(np.var(a)))\n",
    "print(\"Skewness is:\", stats.skew(a))  # -, a is negatively skewed\n",
    "print(\"Kurtosis is :\", stats.kurtosis(a))"
   ]
  },
  {
   "cell_type": "code",
   "execution_count": 3,
   "id": "e895da8d-96d4-4123-82bc-52c49c71041a",
   "metadata": {},
   "outputs": [
    {
     "data": {
      "text/plain": [
       "array([ 5. , 20. , 23. , 23.5, 25. ])"
      ]
     },
     "execution_count": 3,
     "metadata": {},
     "output_type": "execute_result"
    }
   ],
   "source": [
    "# Min, Q1, Q2 (median), Q3 ve Maximumu  birlikte bulabiliriz\n",
    "np.percentile(a, [0, 25, 50, 75, 100])"
   ]
  },
  {
   "cell_type": "code",
   "execution_count": 8,
   "id": "b2de0055-4266-4dec-8664-6c824ddd25fd",
   "metadata": {},
   "outputs": [
    {
     "data": {
      "text/plain": [
       "DescribeResult(nobs=19, minmax=(5, 25), mean=19.894736842105264, variance=36.877192982456144, skewness=-1.5176315809887007, kurtosis=0.8528442245963328)"
      ]
     },
     "execution_count": 8,
     "metadata": {},
     "output_type": "execute_result"
    }
   ],
   "source": [
    "# array'in genel bir özeti için\n",
    "stats.describe(a)\n",
    "# nobs: number of observations"
   ]
  },
  {
   "cell_type": "markdown",
   "id": "21956c6d-579c-4ffd-b1c4-4c549d2a504f",
   "metadata": {},
   "source": [
    "# Z-Score z score with Scipy stats , Pandas"
   ]
  },
  {
   "cell_type": "code",
   "execution_count": 1,
   "id": "d1cd3c56-eb0c-4082-963f-14cb13d815fc",
   "metadata": {},
   "outputs": [
    {
     "name": "stdout",
     "output_type": "stream",
     "text": [
      "[-1.2493901  -1.01512945 -0.78086881 -0.78086881 -0.78086881 -0.54660817\n",
      " -0.31234752  0.62469505  0.85895569  0.85895569  1.09321633  2.0302589 ]\n"
     ]
    }
   ],
   "source": [
    "# Calculate the z-score from with scipy\n",
    "\n",
    "import scipy.stats as stats\n",
    "\n",
    "values = [4,5,6,6,6,7,8,12,13,13,14,18]\n",
    "\n",
    "zscores = stats.zscore(values)\n",
    "print(zscores)"
   ]
  },
  {
   "cell_type": "code",
   "execution_count": 3,
   "id": "d7b625e2-0d28-467a-b1bd-0408d4e4a34e",
   "metadata": {},
   "outputs": [
    {
     "name": "stdout",
     "output_type": "stream",
     "text": [
      "    Name  Age  Income  Education\n",
      "0    Nik   32   80000          5\n",
      "1   Kate   30   90000          7\n",
      "2    Joe   67   45000          3\n",
      "3  Mitch   34   23000          4\n",
      "4  Alana   20   12000          4\n"
     ]
    }
   ],
   "source": [
    "# Pandas zscore \n",
    "# Loading a Sample Pandas Dataframe\n",
    "# A Pandas DataFrame is a 2 dimensional data structure, like a 2 dimensional array, or a table with rows and columns.\n",
    "import pandas as pd\n",
    "\n",
    "df = pd.DataFrame.from_dict({\n",
    "    'Name': ['Nik', 'Kate', 'Joe', 'Mitch', 'Alana'],\n",
    "    'Age': [32, 30, 67, 34, 20],\n",
    "    'Income': [80000, 90000, 45000, 23000, 12000],\n",
    "    'Education' : [5, 7, 3, 4, 4]\n",
    "})\n",
    "\n",
    "print(df.head())\n",
    "\n",
    "# The head() method returns a specified number of rows, string from the top.\n",
    "# The head() method returns the first 5 rows if a number is not specified.\n",
    "# The column names will also be returned, in addition to the specified rows.\n",
    "# syntax : dataframe.head(n) n is the number of rows to return. default 5."
   ]
  },
  {
   "cell_type": "code",
   "execution_count": 4,
   "id": "97f43d64-8cf2-49a6-ac54-a52b8789d644",
   "metadata": {},
   "outputs": [
    {
     "name": "stdout",
     "output_type": "stream",
     "text": [
      "    Name  Age  Income  Education  Income zscore\n",
      "0    Nik   32   80000          5       0.978700\n",
      "1   Kate   30   90000          7       1.304934\n",
      "2    Joe   67   45000          3      -0.163117\n",
      "3  Mitch   34   23000          4      -0.880830\n",
      "4  Alana   20   12000          4      -1.239687\n"
     ]
    }
   ],
   "source": [
    "# Three of columns are numerical columns, for which we can calculate the z-score.\n",
    "# We can use the scipy.stats.zscore() function to calculate the z-scores on a Pandas dataframe column. \n",
    "# Let’s create a new column that contains the values from the Income column normalized using the z-score:\n",
    "\n",
    "df['Income zscore'] = stats.zscore(df['Income'])  # we've assigned a new item to the dict\n",
    "print(df.head())"
   ]
  },
  {
   "cell_type": "code",
   "execution_count": 5,
   "id": "7dbbeb83-714e-492e-aad3-8c5456a8529d",
   "metadata": {},
   "outputs": [
    {
     "name": "stdout",
     "output_type": "stream",
     "text": [
      "        Age    Income  Education  Income zscore\n",
      "0 -0.288493  0.978700   0.294884       0.978700\n",
      "1 -0.413925  1.304934   1.769303       1.304934\n",
      "2  1.906565 -0.163117  -1.179536      -0.163117\n",
      "3 -0.163061 -0.880830  -0.442326      -0.880830\n",
      "4 -1.041085 -1.239687  -0.442326      -1.239687\n"
     ]
    }
   ],
   "source": [
    "# we can convert our dataframe columns to z-scores using the Pandas .apply() method:\n",
    "df = df.select_dtypes(include='number').apply(stats.zscore)\n",
    "print(df.head())"
   ]
  },
  {
   "cell_type": "markdown",
   "id": "dcbacf0c-38ca-44ce-b939-0e3278c0f0b3",
   "metadata": {},
   "source": [
    "# DESCRIPTIVE STATISTICS\n",
    "# CENTRAL TENDENCY - MODE - MEDIAN - MEAN\n",
    "# DISPERSION - MEASURE OF SPREAD - CORRELATION - STANDARD DEVIATION - VARIANCE - COVARIANCE\n",
    "# PEARSON SPEARMAN KENDALL \n",
    "# HEATMAP\n",
    "# SCATTERPLOT SCATTER PLOT PAIRPLOT PAIRPLOT\n",
    "# HEATMAP HEAT MAP \n",
    "# NUMPY CORRCOEF - PANDAS CORR\n",
    "# PANDAS DESCRIBE"
   ]
  },
  {
   "cell_type": "code",
   "execution_count": 7,
   "id": "8f3ea580-4987-4de9-9d0f-2ba090509347",
   "metadata": {},
   "outputs": [],
   "source": [
    "# import related lbraries\n",
    "import numpy as np\n",
    "import pandas as pd\n",
    "import seaborn as sns\n",
    "from scipy import stats"
   ]
  },
  {
   "cell_type": "code",
   "execution_count": 8,
   "id": "3f8c2265-f95e-44ba-b5d5-3d7696941ef5",
   "metadata": {},
   "outputs": [
    {
     "data": {
      "text/plain": [
       "['anagrams',\n",
       " 'anscombe',\n",
       " 'attention',\n",
       " 'brain_networks',\n",
       " 'car_crashes',\n",
       " 'diamonds',\n",
       " 'dots',\n",
       " 'dowjones',\n",
       " 'exercise',\n",
       " 'flights',\n",
       " 'fmri',\n",
       " 'geyser',\n",
       " 'glue',\n",
       " 'healthexp',\n",
       " 'iris',\n",
       " 'mpg',\n",
       " 'penguins',\n",
       " 'planets',\n",
       " 'seaice',\n",
       " 'taxis',\n",
       " 'tips',\n",
       " 'titanic']"
      ]
     },
     "execution_count": 8,
     "metadata": {},
     "output_type": "execute_result"
    }
   ],
   "source": [
    "# get built-in dataset names from seaborn library\n",
    "# bunlar eğitim datasetleri. örn titanic.. veya zaman serisi icin dowjones vb vb\n",
    "sns.get_dataset_names()"
   ]
  },
  {
   "cell_type": "code",
   "execution_count": 9,
   "id": "56684b99-bc8c-42ae-bc97-202a735ee2a0",
   "metadata": {},
   "outputs": [
    {
     "data": {
      "text/html": [
       "<div>\n",
       "<style scoped>\n",
       "    .dataframe tbody tr th:only-of-type {\n",
       "        vertical-align: middle;\n",
       "    }\n",
       "\n",
       "    .dataframe tbody tr th {\n",
       "        vertical-align: top;\n",
       "    }\n",
       "\n",
       "    .dataframe thead th {\n",
       "        text-align: right;\n",
       "    }\n",
       "</style>\n",
       "<table border=\"1\" class=\"dataframe\">\n",
       "  <thead>\n",
       "    <tr style=\"text-align: right;\">\n",
       "      <th></th>\n",
       "      <th>mpg</th>\n",
       "      <th>cylinders</th>\n",
       "      <th>displacement</th>\n",
       "      <th>horsepower</th>\n",
       "      <th>weight</th>\n",
       "      <th>acceleration</th>\n",
       "      <th>model_year</th>\n",
       "      <th>origin</th>\n",
       "      <th>name</th>\n",
       "    </tr>\n",
       "  </thead>\n",
       "  <tbody>\n",
       "    <tr>\n",
       "      <th>0</th>\n",
       "      <td>18.0</td>\n",
       "      <td>8</td>\n",
       "      <td>307.0</td>\n",
       "      <td>130.0</td>\n",
       "      <td>3504</td>\n",
       "      <td>12.0</td>\n",
       "      <td>70</td>\n",
       "      <td>usa</td>\n",
       "      <td>chevrolet chevelle malibu</td>\n",
       "    </tr>\n",
       "    <tr>\n",
       "      <th>1</th>\n",
       "      <td>15.0</td>\n",
       "      <td>8</td>\n",
       "      <td>350.0</td>\n",
       "      <td>165.0</td>\n",
       "      <td>3693</td>\n",
       "      <td>11.5</td>\n",
       "      <td>70</td>\n",
       "      <td>usa</td>\n",
       "      <td>buick skylark 320</td>\n",
       "    </tr>\n",
       "    <tr>\n",
       "      <th>2</th>\n",
       "      <td>18.0</td>\n",
       "      <td>8</td>\n",
       "      <td>318.0</td>\n",
       "      <td>150.0</td>\n",
       "      <td>3436</td>\n",
       "      <td>11.0</td>\n",
       "      <td>70</td>\n",
       "      <td>usa</td>\n",
       "      <td>plymouth satellite</td>\n",
       "    </tr>\n",
       "    <tr>\n",
       "      <th>3</th>\n",
       "      <td>16.0</td>\n",
       "      <td>8</td>\n",
       "      <td>304.0</td>\n",
       "      <td>150.0</td>\n",
       "      <td>3433</td>\n",
       "      <td>12.0</td>\n",
       "      <td>70</td>\n",
       "      <td>usa</td>\n",
       "      <td>amc rebel sst</td>\n",
       "    </tr>\n",
       "    <tr>\n",
       "      <th>4</th>\n",
       "      <td>17.0</td>\n",
       "      <td>8</td>\n",
       "      <td>302.0</td>\n",
       "      <td>140.0</td>\n",
       "      <td>3449</td>\n",
       "      <td>10.5</td>\n",
       "      <td>70</td>\n",
       "      <td>usa</td>\n",
       "      <td>ford torino</td>\n",
       "    </tr>\n",
       "  </tbody>\n",
       "</table>\n",
       "</div>"
      ],
      "text/plain": [
       "    mpg  cylinders  displacement  horsepower  weight  acceleration  \\\n",
       "0  18.0          8         307.0       130.0    3504          12.0   \n",
       "1  15.0          8         350.0       165.0    3693          11.5   \n",
       "2  18.0          8         318.0       150.0    3436          11.0   \n",
       "3  16.0          8         304.0       150.0    3433          12.0   \n",
       "4  17.0          8         302.0       140.0    3449          10.5   \n",
       "\n",
       "   model_year origin                       name  \n",
       "0          70    usa  chevrolet chevelle malibu  \n",
       "1          70    usa          buick skylark 320  \n",
       "2          70    usa         plymouth satellite  \n",
       "3          70    usa              amc rebel sst  \n",
       "4          70    usa                ford torino  "
      ]
     },
     "execution_count": 9,
     "metadata": {},
     "output_type": "execute_result"
    }
   ],
   "source": [
    "# how to load mpg dataset (mpg: miles per gallone)\n",
    "# otomatik pandas dataframe icinde getirir. bunu df'e atip sadece ilk 5 satırını gorelim\n",
    "df = sns.load_dataset(\"mpg\")\n",
    "df.head()  # default 5. 10 yazarsak 10 getirir."
   ]
  },
  {
   "cell_type": "code",
   "execution_count": 10,
   "id": "809883ba-fcb6-4b75-ae55-16c027e428a9",
   "metadata": {},
   "outputs": [
    {
     "data": {
      "text/plain": [
       "398"
      ]
     },
     "execution_count": 10,
     "metadata": {},
     "output_type": "execute_result"
    }
   ],
   "source": [
    "# boyutunu gormek icin\n",
    "len(df)"
   ]
  },
  {
   "cell_type": "code",
   "execution_count": 11,
   "id": "761ab7b5-96ae-4b3c-b5db-373974a2b470",
   "metadata": {},
   "outputs": [
    {
     "data": {
      "text/html": [
       "<div>\n",
       "<style scoped>\n",
       "    .dataframe tbody tr th:only-of-type {\n",
       "        vertical-align: middle;\n",
       "    }\n",
       "\n",
       "    .dataframe tbody tr th {\n",
       "        vertical-align: top;\n",
       "    }\n",
       "\n",
       "    .dataframe thead th {\n",
       "        text-align: right;\n",
       "    }\n",
       "</style>\n",
       "<table border=\"1\" class=\"dataframe\">\n",
       "  <thead>\n",
       "    <tr style=\"text-align: right;\">\n",
       "      <th></th>\n",
       "      <th>mpg</th>\n",
       "      <th>cylinders</th>\n",
       "      <th>displacement</th>\n",
       "      <th>horsepower</th>\n",
       "      <th>weight</th>\n",
       "      <th>acceleration</th>\n",
       "      <th>model_year</th>\n",
       "      <th>origin</th>\n",
       "      <th>name</th>\n",
       "    </tr>\n",
       "  </thead>\n",
       "  <tbody>\n",
       "    <tr>\n",
       "      <th>64</th>\n",
       "      <td>15.0</td>\n",
       "      <td>8</td>\n",
       "      <td>318.0</td>\n",
       "      <td>150.0</td>\n",
       "      <td>4135</td>\n",
       "      <td>13.5</td>\n",
       "      <td>72</td>\n",
       "      <td>usa</td>\n",
       "      <td>plymouth fury iii</td>\n",
       "    </tr>\n",
       "    <tr>\n",
       "      <th>196</th>\n",
       "      <td>24.5</td>\n",
       "      <td>4</td>\n",
       "      <td>98.0</td>\n",
       "      <td>60.0</td>\n",
       "      <td>2164</td>\n",
       "      <td>22.1</td>\n",
       "      <td>76</td>\n",
       "      <td>usa</td>\n",
       "      <td>chevrolet woody</td>\n",
       "    </tr>\n",
       "    <tr>\n",
       "      <th>358</th>\n",
       "      <td>31.6</td>\n",
       "      <td>4</td>\n",
       "      <td>120.0</td>\n",
       "      <td>74.0</td>\n",
       "      <td>2635</td>\n",
       "      <td>18.3</td>\n",
       "      <td>81</td>\n",
       "      <td>japan</td>\n",
       "      <td>mazda 626</td>\n",
       "    </tr>\n",
       "    <tr>\n",
       "      <th>361</th>\n",
       "      <td>25.4</td>\n",
       "      <td>6</td>\n",
       "      <td>168.0</td>\n",
       "      <td>116.0</td>\n",
       "      <td>2900</td>\n",
       "      <td>12.6</td>\n",
       "      <td>81</td>\n",
       "      <td>japan</td>\n",
       "      <td>toyota cressida</td>\n",
       "    </tr>\n",
       "    <tr>\n",
       "      <th>394</th>\n",
       "      <td>44.0</td>\n",
       "      <td>4</td>\n",
       "      <td>97.0</td>\n",
       "      <td>52.0</td>\n",
       "      <td>2130</td>\n",
       "      <td>24.6</td>\n",
       "      <td>82</td>\n",
       "      <td>europe</td>\n",
       "      <td>vw pickup</td>\n",
       "    </tr>\n",
       "    <tr>\n",
       "      <th>208</th>\n",
       "      <td>13.0</td>\n",
       "      <td>8</td>\n",
       "      <td>318.0</td>\n",
       "      <td>150.0</td>\n",
       "      <td>3940</td>\n",
       "      <td>13.2</td>\n",
       "      <td>76</td>\n",
       "      <td>usa</td>\n",
       "      <td>plymouth volare premier v8</td>\n",
       "    </tr>\n",
       "    <tr>\n",
       "      <th>384</th>\n",
       "      <td>32.0</td>\n",
       "      <td>4</td>\n",
       "      <td>91.0</td>\n",
       "      <td>67.0</td>\n",
       "      <td>1965</td>\n",
       "      <td>15.7</td>\n",
       "      <td>82</td>\n",
       "      <td>japan</td>\n",
       "      <td>honda civic (auto)</td>\n",
       "    </tr>\n",
       "    <tr>\n",
       "      <th>256</th>\n",
       "      <td>20.5</td>\n",
       "      <td>6</td>\n",
       "      <td>225.0</td>\n",
       "      <td>100.0</td>\n",
       "      <td>3430</td>\n",
       "      <td>17.2</td>\n",
       "      <td>78</td>\n",
       "      <td>usa</td>\n",
       "      <td>plymouth volare</td>\n",
       "    </tr>\n",
       "    <tr>\n",
       "      <th>368</th>\n",
       "      <td>27.0</td>\n",
       "      <td>4</td>\n",
       "      <td>112.0</td>\n",
       "      <td>88.0</td>\n",
       "      <td>2640</td>\n",
       "      <td>18.6</td>\n",
       "      <td>82</td>\n",
       "      <td>usa</td>\n",
       "      <td>chevrolet cavalier wagon</td>\n",
       "    </tr>\n",
       "    <tr>\n",
       "      <th>276</th>\n",
       "      <td>21.6</td>\n",
       "      <td>4</td>\n",
       "      <td>121.0</td>\n",
       "      <td>115.0</td>\n",
       "      <td>2795</td>\n",
       "      <td>15.7</td>\n",
       "      <td>78</td>\n",
       "      <td>europe</td>\n",
       "      <td>saab 99gle</td>\n",
       "    </tr>\n",
       "  </tbody>\n",
       "</table>\n",
       "</div>"
      ],
      "text/plain": [
       "      mpg  cylinders  displacement  horsepower  weight  acceleration  \\\n",
       "64   15.0          8         318.0       150.0    4135          13.5   \n",
       "196  24.5          4          98.0        60.0    2164          22.1   \n",
       "358  31.6          4         120.0        74.0    2635          18.3   \n",
       "361  25.4          6         168.0       116.0    2900          12.6   \n",
       "394  44.0          4          97.0        52.0    2130          24.6   \n",
       "208  13.0          8         318.0       150.0    3940          13.2   \n",
       "384  32.0          4          91.0        67.0    1965          15.7   \n",
       "256  20.5          6         225.0       100.0    3430          17.2   \n",
       "368  27.0          4         112.0        88.0    2640          18.6   \n",
       "276  21.6          4         121.0       115.0    2795          15.7   \n",
       "\n",
       "     model_year  origin                        name  \n",
       "64           72     usa           plymouth fury iii  \n",
       "196          76     usa             chevrolet woody  \n",
       "358          81   japan                   mazda 626  \n",
       "361          81   japan             toyota cressida  \n",
       "394          82  europe                   vw pickup  \n",
       "208          76     usa  plymouth volare premier v8  \n",
       "384          82   japan          honda civic (auto)  \n",
       "256          78     usa             plymouth volare  \n",
       "368          82     usa    chevrolet cavalier wagon  \n",
       "276          78  europe                  saab 99gle  "
      ]
     },
     "execution_count": 11,
     "metadata": {},
     "output_type": "execute_result"
    }
   ],
   "source": [
    "# aradan 10 tane farklı getirmek istiyoruz diyelim. dataframe objectin sample() methodunu kullanırız\n",
    "df.sample(10)\n",
    "# her calistirdiginda degistirir."
   ]
  },
  {
   "cell_type": "code",
   "execution_count": 12,
   "id": "8b177a63-88a0-48e9-8602-5231236a7def",
   "metadata": {},
   "outputs": [
    {
     "data": {
      "text/plain": [
       "<AxesSubplot:xlabel='mpg', ylabel='horsepower'>"
      ]
     },
     "execution_count": 12,
     "metadata": {},
     "output_type": "execute_result"
    },
    {
     "data": {
      "image/png": "[encoded data removed]",
      "text/plain": [
       "<Figure size 432x288 with 1 Axes>"
      ]
     },
     "metadata": {
      "needs_background": "light"
     },
     "output_type": "display_data"
    }
   ],
   "source": [
    "# mpg ve horsepower degiskenleri arasındaki ilişkyi araştıralım\n",
    "# draw a scatter plot between mpg and horsepower\n",
    "sns.scatterplot(x = \"mpg\", y = \"horsepower\", data = df)  \n",
    "# parantez icinde shft+tab yap. scatterplot(x ekseni, y ekseni)"
   ]
  },
  {
   "cell_type": "markdown",
   "id": "ecefd91b-3cc4-4176-b3a0-ea6d8a542b47",
   "metadata": {},
   "source": [
    "# correlation"
   ]
  },
  {
   "cell_type": "code",
   "execution_count": 16,
   "id": "c8aa713b-0161-4e4e-8e32-8255da991ec0",
   "metadata": {},
   "outputs": [],
   "source": [
    "# numpy covariance - correlation\n",
    "#Define two variables as x and y\n",
    "x = [93, 84, 82, 78, 98, 70]\n",
    "y = [13, 10, 11, 8, 15, 9]"
   ]
  },
  {
   "cell_type": "code",
   "execution_count": 17,
   "id": "6ccffdb9-e9b9-46d1-a823-f85264fbfe7b",
   "metadata": {},
   "outputs": [
    {
     "data": {
      "text/plain": [
       "array([[102.56666667,  24.        ],\n",
       "       [ 24.        ,   6.8       ]])"
      ]
     },
     "execution_count": 17,
     "metadata": {},
     "output_type": "execute_result"
    }
   ],
   "source": [
    "# check the covariance between x and y\n",
    "np.cov(x,y)\n",
    "# 24ler covaryans, 6.8 y'nin varyans, 102 x'in"
   ]
  },
  {
   "cell_type": "code",
   "execution_count": 18,
   "id": "4c9bd0f5-5a54-41ae-9e68-c4c50dd47ec2",
   "metadata": {},
   "outputs": [
    {
     "data": {
      "text/plain": [
       "9.24511883223911"
      ]
     },
     "execution_count": 18,
     "metadata": {},
     "output_type": "execute_result"
    }
   ],
   "source": [
    "np.std(x)"
   ]
  },
  {
   "cell_type": "code",
   "execution_count": 19,
   "id": "d95f55bc-4950-4385-8f4b-ba8b38bed8b1",
   "metadata": {},
   "outputs": [
    {
     "data": {
      "text/plain": [
       "85.47222222222223"
      ]
     },
     "execution_count": 19,
     "metadata": {},
     "output_type": "execute_result"
    }
   ],
   "source": [
    "np.var(x)"
   ]
  },
  {
   "cell_type": "code",
   "execution_count": 21,
   "id": "5d9416e9-01b1-4951-a7d5-7643f52d2b7e",
   "metadata": {},
   "outputs": [
    {
     "name": "stdout",
     "output_type": "stream",
     "text": [
      "6.8\n",
      "102.56666666666668\n"
     ]
    }
   ],
   "source": [
    "print(np.var(y, ddof=1))  # sample icin\n",
    "print(np.var(x, ddof=1))"
   ]
  },
  {
   "cell_type": "code",
   "execution_count": 22,
   "id": "2f60bbf6-0081-4363-ad66-f379055bfe0f",
   "metadata": {},
   "outputs": [
    {
     "data": {
      "text/plain": [
       "array([[1.        , 0.90876934],\n",
       "       [0.90876934, 1.        ]])"
      ]
     },
     "execution_count": 22,
     "metadata": {},
     "output_type": "execute_result"
    }
   ],
   "source": [
    "# check the correlation between x and y\n",
    "np.corrcoef(x,y)\n",
    "# aynı mantık. 1ler x-x, y-y korelasyonu. 0,9.. korelayon. + ve strong"
   ]
  },
  {
   "cell_type": "code",
   "execution_count": 23,
   "id": "38ae7d40-b97c-4f11-a677-e4684af3b5bd",
   "metadata": {},
   "outputs": [
    {
     "data": {
      "text/plain": [
       "0.9087693361896165"
      ]
     },
     "execution_count": 23,
     "metadata": {},
     "output_type": "execute_result"
    }
   ],
   "source": [
    "np.corrcoef(x,y)[0][1]"
   ]
  },
  {
   "cell_type": "code",
   "execution_count": 24,
   "id": "97eb2df4-e88f-47d2-a46f-86ad84287516",
   "metadata": {},
   "outputs": [
    {
     "data": {
      "text/html": [
       "<div>\n",
       "<style scoped>\n",
       "    .dataframe tbody tr th:only-of-type {\n",
       "        vertical-align: middle;\n",
       "    }\n",
       "\n",
       "    .dataframe tbody tr th {\n",
       "        vertical-align: top;\n",
       "    }\n",
       "\n",
       "    .dataframe thead th {\n",
       "        text-align: right;\n",
       "    }\n",
       "</style>\n",
       "<table border=\"1\" class=\"dataframe\">\n",
       "  <thead>\n",
       "    <tr style=\"text-align: right;\">\n",
       "      <th></th>\n",
       "      <th>mpg</th>\n",
       "      <th>cylinders</th>\n",
       "      <th>displacement</th>\n",
       "      <th>horsepower</th>\n",
       "      <th>weight</th>\n",
       "      <th>acceleration</th>\n",
       "      <th>model_year</th>\n",
       "      <th>origin</th>\n",
       "      <th>name</th>\n",
       "    </tr>\n",
       "  </thead>\n",
       "  <tbody>\n",
       "    <tr>\n",
       "      <th>0</th>\n",
       "      <td>18.0</td>\n",
       "      <td>8</td>\n",
       "      <td>307.0</td>\n",
       "      <td>130.0</td>\n",
       "      <td>3504</td>\n",
       "      <td>12.0</td>\n",
       "      <td>70</td>\n",
       "      <td>usa</td>\n",
       "      <td>chevrolet chevelle malibu</td>\n",
       "    </tr>\n",
       "    <tr>\n",
       "      <th>1</th>\n",
       "      <td>15.0</td>\n",
       "      <td>8</td>\n",
       "      <td>350.0</td>\n",
       "      <td>165.0</td>\n",
       "      <td>3693</td>\n",
       "      <td>11.5</td>\n",
       "      <td>70</td>\n",
       "      <td>usa</td>\n",
       "      <td>buick skylark 320</td>\n",
       "    </tr>\n",
       "    <tr>\n",
       "      <th>2</th>\n",
       "      <td>18.0</td>\n",
       "      <td>8</td>\n",
       "      <td>318.0</td>\n",
       "      <td>150.0</td>\n",
       "      <td>3436</td>\n",
       "      <td>11.0</td>\n",
       "      <td>70</td>\n",
       "      <td>usa</td>\n",
       "      <td>plymouth satellite</td>\n",
       "    </tr>\n",
       "    <tr>\n",
       "      <th>3</th>\n",
       "      <td>16.0</td>\n",
       "      <td>8</td>\n",
       "      <td>304.0</td>\n",
       "      <td>150.0</td>\n",
       "      <td>3433</td>\n",
       "      <td>12.0</td>\n",
       "      <td>70</td>\n",
       "      <td>usa</td>\n",
       "      <td>amc rebel sst</td>\n",
       "    </tr>\n",
       "    <tr>\n",
       "      <th>4</th>\n",
       "      <td>17.0</td>\n",
       "      <td>8</td>\n",
       "      <td>302.0</td>\n",
       "      <td>140.0</td>\n",
       "      <td>3449</td>\n",
       "      <td>10.5</td>\n",
       "      <td>70</td>\n",
       "      <td>usa</td>\n",
       "      <td>ford torino</td>\n",
       "    </tr>\n",
       "  </tbody>\n",
       "</table>\n",
       "</div>"
      ],
      "text/plain": [
       "    mpg  cylinders  displacement  horsepower  weight  acceleration  \\\n",
       "0  18.0          8         307.0       130.0    3504          12.0   \n",
       "1  15.0          8         350.0       165.0    3693          11.5   \n",
       "2  18.0          8         318.0       150.0    3436          11.0   \n",
       "3  16.0          8         304.0       150.0    3433          12.0   \n",
       "4  17.0          8         302.0       140.0    3449          10.5   \n",
       "\n",
       "   model_year origin                       name  \n",
       "0          70    usa  chevrolet chevelle malibu  \n",
       "1          70    usa          buick skylark 320  \n",
       "2          70    usa         plymouth satellite  \n",
       "3          70    usa              amc rebel sst  \n",
       "4          70    usa                ford torino  "
      ]
     },
     "execution_count": 24,
     "metadata": {},
     "output_type": "execute_result"
    }
   ],
   "source": [
    "# ama hesaplamalarda daha çok pandas corr kullanılır.\n",
    "# pandas correlation\n",
    "df.head()"
   ]
  },
  {
   "cell_type": "code",
   "execution_count": 25,
   "id": "38ccf471-fda8-4a37-83ff-f3815e761df1",
   "metadata": {},
   "outputs": [
    {
     "data": {
      "text/plain": [
       "pandas.core.frame.DataFrame"
      ]
     },
     "execution_count": 25,
     "metadata": {},
     "output_type": "execute_result"
    }
   ],
   "source": [
    "type(df)"
   ]
  },
  {
   "cell_type": "code",
   "execution_count": 26,
   "id": "63847163-6f3e-4f5f-bb71-82bfad7be21d",
   "metadata": {},
   "outputs": [
    {
     "data": {
      "text/html": [
       "<div>\n",
       "<style scoped>\n",
       "    .dataframe tbody tr th:only-of-type {\n",
       "        vertical-align: middle;\n",
       "    }\n",
       "\n",
       "    .dataframe tbody tr th {\n",
       "        vertical-align: top;\n",
       "    }\n",
       "\n",
       "    .dataframe thead th {\n",
       "        text-align: right;\n",
       "    }\n",
       "</style>\n",
       "<table border=\"1\" class=\"dataframe\">\n",
       "  <thead>\n",
       "    <tr style=\"text-align: right;\">\n",
       "      <th></th>\n",
       "      <th>mpg</th>\n",
       "      <th>cylinders</th>\n",
       "      <th>displacement</th>\n",
       "      <th>horsepower</th>\n",
       "      <th>weight</th>\n",
       "      <th>acceleration</th>\n",
       "      <th>model_year</th>\n",
       "    </tr>\n",
       "  </thead>\n",
       "  <tbody>\n",
       "    <tr>\n",
       "      <th>mpg</th>\n",
       "      <td>1.000000</td>\n",
       "      <td>-0.775396</td>\n",
       "      <td>-0.804203</td>\n",
       "      <td>-0.778427</td>\n",
       "      <td>-0.831741</td>\n",
       "      <td>0.420289</td>\n",
       "      <td>0.579267</td>\n",
       "    </tr>\n",
       "    <tr>\n",
       "      <th>cylinders</th>\n",
       "      <td>-0.775396</td>\n",
       "      <td>1.000000</td>\n",
       "      <td>0.950721</td>\n",
       "      <td>0.842983</td>\n",
       "      <td>0.896017</td>\n",
       "      <td>-0.505419</td>\n",
       "      <td>-0.348746</td>\n",
       "    </tr>\n",
       "    <tr>\n",
       "      <th>displacement</th>\n",
       "      <td>-0.804203</td>\n",
       "      <td>0.950721</td>\n",
       "      <td>1.000000</td>\n",
       "      <td>0.897257</td>\n",
       "      <td>0.932824</td>\n",
       "      <td>-0.543684</td>\n",
       "      <td>-0.370164</td>\n",
       "    </tr>\n",
       "    <tr>\n",
       "      <th>horsepower</th>\n",
       "      <td>-0.778427</td>\n",
       "      <td>0.842983</td>\n",
       "      <td>0.897257</td>\n",
       "      <td>1.000000</td>\n",
       "      <td>0.864538</td>\n",
       "      <td>-0.689196</td>\n",
       "      <td>-0.416361</td>\n",
       "    </tr>\n",
       "    <tr>\n",
       "      <th>weight</th>\n",
       "      <td>-0.831741</td>\n",
       "      <td>0.896017</td>\n",
       "      <td>0.932824</td>\n",
       "      <td>0.864538</td>\n",
       "      <td>1.000000</td>\n",
       "      <td>-0.417457</td>\n",
       "      <td>-0.306564</td>\n",
       "    </tr>\n",
       "    <tr>\n",
       "      <th>acceleration</th>\n",
       "      <td>0.420289</td>\n",
       "      <td>-0.505419</td>\n",
       "      <td>-0.543684</td>\n",
       "      <td>-0.689196</td>\n",
       "      <td>-0.417457</td>\n",
       "      <td>1.000000</td>\n",
       "      <td>0.288137</td>\n",
       "    </tr>\n",
       "    <tr>\n",
       "      <th>model_year</th>\n",
       "      <td>0.579267</td>\n",
       "      <td>-0.348746</td>\n",
       "      <td>-0.370164</td>\n",
       "      <td>-0.416361</td>\n",
       "      <td>-0.306564</td>\n",
       "      <td>0.288137</td>\n",
       "      <td>1.000000</td>\n",
       "    </tr>\n",
       "  </tbody>\n",
       "</table>\n",
       "</div>"
      ],
      "text/plain": [
       "                   mpg  cylinders  displacement  horsepower    weight  \\\n",
       "mpg           1.000000  -0.775396     -0.804203   -0.778427 -0.831741   \n",
       "cylinders    -0.775396   1.000000      0.950721    0.842983  0.896017   \n",
       "displacement -0.804203   0.950721      1.000000    0.897257  0.932824   \n",
       "horsepower   -0.778427   0.842983      0.897257    1.000000  0.864538   \n",
       "weight       -0.831741   0.896017      0.932824    0.864538  1.000000   \n",
       "acceleration  0.420289  -0.505419     -0.543684   -0.689196 -0.417457   \n",
       "model_year    0.579267  -0.348746     -0.370164   -0.416361 -0.306564   \n",
       "\n",
       "              acceleration  model_year  \n",
       "mpg               0.420289    0.579267  \n",
       "cylinders        -0.505419   -0.348746  \n",
       "displacement     -0.543684   -0.370164  \n",
       "horsepower       -0.689196   -0.416361  \n",
       "weight           -0.417457   -0.306564  \n",
       "acceleration      1.000000    0.288137  \n",
       "model_year        0.288137    1.000000  "
      ]
     },
     "execution_count": 26,
     "metadata": {},
     "output_type": "execute_result"
    }
   ],
   "source": [
    "df.corr()\n",
    "# default pearson. degistirmek istersen örn (method = \"spearman\") veya (method = \"kendall\")\n",
    "# tamamının birbirine korelasyonlarını verir\n",
    "\n",
    "# mpg-horsepower arası -0.77\n",
    "# weight-accel arası-0.41"
   ]
  },
  {
   "cell_type": "code",
   "execution_count": 27,
   "id": "700d127e-0761-4877-a689-3ad84dedc250",
   "metadata": {},
   "outputs": [
    {
     "data": {
      "text/plain": [
       "0.9507213901392411"
      ]
     },
     "execution_count": 27,
     "metadata": {},
     "output_type": "execute_result"
    }
   ],
   "source": [
    "# peki ayrı ayrı korelayonları nasıl getiririz\n",
    "df[\"cylinders\"].corr(df[\"displacement\"])"
   ]
  },
  {
   "cell_type": "code",
   "execution_count": 28,
   "id": "b7085a88-fc22-48c6-a541-348c658246c8",
   "metadata": {},
   "outputs": [
    {
     "data": {
      "text/plain": [
       "<AxesSubplot:>"
      ]
     },
     "execution_count": 28,
     "metadata": {},
     "output_type": "execute_result"
    },
    {
     "data": {
      "image/png": "[encoded data removed]",
      "text/plain": [
       "<Figure size 432x288 with 2 Axes>"
      ]
     },
     "metadata": {
      "needs_background": "light"
     },
     "output_type": "display_data"
    }
   ],
   "source": [
    "# df.corr() tablosu kullanisli ama veri cok büyüyünce zoelasiyor anlamasi. bunun icin heatmap var\n",
    "# draw a heatmap of corrrelation matrix\n",
    "sns.heatmap(df.corr(), annot=True)\n",
    "# annot=True kor.katsayıları icine yazdırmak icin"
   ]
  },
  {
   "cell_type": "code",
   "execution_count": 29,
   "id": "29719af3-f903-48ed-bced-d13b97765b7c",
   "metadata": {},
   "outputs": [
    {
     "data": {
      "text/html": [
       "<div>\n",
       "<style scoped>\n",
       "    .dataframe tbody tr th:only-of-type {\n",
       "        vertical-align: middle;\n",
       "    }\n",
       "\n",
       "    .dataframe tbody tr th {\n",
       "        vertical-align: top;\n",
       "    }\n",
       "\n",
       "    .dataframe thead th {\n",
       "        text-align: right;\n",
       "    }\n",
       "</style>\n",
       "<table border=\"1\" class=\"dataframe\">\n",
       "  <thead>\n",
       "    <tr style=\"text-align: right;\">\n",
       "      <th></th>\n",
       "      <th>mpg</th>\n",
       "      <th>cylinders</th>\n",
       "      <th>displacement</th>\n",
       "      <th>horsepower</th>\n",
       "      <th>weight</th>\n",
       "      <th>acceleration</th>\n",
       "      <th>model_year</th>\n",
       "    </tr>\n",
       "  </thead>\n",
       "  <tbody>\n",
       "    <tr>\n",
       "      <th>count</th>\n",
       "      <td>398.000000</td>\n",
       "      <td>398.000000</td>\n",
       "      <td>398.000000</td>\n",
       "      <td>392.000000</td>\n",
       "      <td>398.000000</td>\n",
       "      <td>398.000000</td>\n",
       "      <td>398.000000</td>\n",
       "    </tr>\n",
       "    <tr>\n",
       "      <th>mean</th>\n",
       "      <td>23.514573</td>\n",
       "      <td>5.454774</td>\n",
       "      <td>193.425879</td>\n",
       "      <td>104.469388</td>\n",
       "      <td>2970.424623</td>\n",
       "      <td>15.568090</td>\n",
       "      <td>76.010050</td>\n",
       "    </tr>\n",
       "    <tr>\n",
       "      <th>std</th>\n",
       "      <td>7.815984</td>\n",
       "      <td>1.701004</td>\n",
       "      <td>104.269838</td>\n",
       "      <td>38.491160</td>\n",
       "      <td>846.841774</td>\n",
       "      <td>2.757689</td>\n",
       "      <td>3.697627</td>\n",
       "    </tr>\n",
       "    <tr>\n",
       "      <th>min</th>\n",
       "      <td>9.000000</td>\n",
       "      <td>3.000000</td>\n",
       "      <td>68.000000</td>\n",
       "      <td>46.000000</td>\n",
       "      <td>1613.000000</td>\n",
       "      <td>8.000000</td>\n",
       "      <td>70.000000</td>\n",
       "    </tr>\n",
       "    <tr>\n",
       "      <th>25%</th>\n",
       "      <td>17.500000</td>\n",
       "      <td>4.000000</td>\n",
       "      <td>104.250000</td>\n",
       "      <td>75.000000</td>\n",
       "      <td>2223.750000</td>\n",
       "      <td>13.825000</td>\n",
       "      <td>73.000000</td>\n",
       "    </tr>\n",
       "    <tr>\n",
       "      <th>50%</th>\n",
       "      <td>23.000000</td>\n",
       "      <td>4.000000</td>\n",
       "      <td>148.500000</td>\n",
       "      <td>93.500000</td>\n",
       "      <td>2803.500000</td>\n",
       "      <td>15.500000</td>\n",
       "      <td>76.000000</td>\n",
       "    </tr>\n",
       "    <tr>\n",
       "      <th>75%</th>\n",
       "      <td>29.000000</td>\n",
       "      <td>8.000000</td>\n",
       "      <td>262.000000</td>\n",
       "      <td>126.000000</td>\n",
       "      <td>3608.000000</td>\n",
       "      <td>17.175000</td>\n",
       "      <td>79.000000</td>\n",
       "    </tr>\n",
       "    <tr>\n",
       "      <th>max</th>\n",
       "      <td>46.600000</td>\n",
       "      <td>8.000000</td>\n",
       "      <td>455.000000</td>\n",
       "      <td>230.000000</td>\n",
       "      <td>5140.000000</td>\n",
       "      <td>24.800000</td>\n",
       "      <td>82.000000</td>\n",
       "    </tr>\n",
       "  </tbody>\n",
       "</table>\n",
       "</div>"
      ],
      "text/plain": [
       "              mpg   cylinders  displacement  horsepower       weight  \\\n",
       "count  398.000000  398.000000    398.000000  392.000000   398.000000   \n",
       "mean    23.514573    5.454774    193.425879  104.469388  2970.424623   \n",
       "std      7.815984    1.701004    104.269838   38.491160   846.841774   \n",
       "min      9.000000    3.000000     68.000000   46.000000  1613.000000   \n",
       "25%     17.500000    4.000000    104.250000   75.000000  2223.750000   \n",
       "50%     23.000000    4.000000    148.500000   93.500000  2803.500000   \n",
       "75%     29.000000    8.000000    262.000000  126.000000  3608.000000   \n",
       "max     46.600000    8.000000    455.000000  230.000000  5140.000000   \n",
       "\n",
       "       acceleration  model_year  \n",
       "count    398.000000  398.000000  \n",
       "mean      15.568090   76.010050  \n",
       "std        2.757689    3.697627  \n",
       "min        8.000000   70.000000  \n",
       "25%       13.825000   73.000000  \n",
       "50%       15.500000   76.000000  \n",
       "75%       17.175000   79.000000  \n",
       "max       24.800000   82.000000  "
      ]
     },
     "execution_count": 29,
     "metadata": {},
     "output_type": "execute_result"
    }
   ],
   "source": [
    "# bununla toplam meanleri vs de gorebiliriz\n",
    "df.describe()\n",
    "# hepsinin istatistiklerini gösterir.\n",
    "# aşağıdaki tabloda horsepower 392; yani 6 verisi eksik. "
   ]
  },
  {
   "cell_type": "code",
   "execution_count": 30,
   "id": "d6dca0d1-a790-4631-81a5-7e57dde436b7",
   "metadata": {},
   "outputs": [],
   "source": [
    "import seaborn as sns\n",
    "import numpy as np\n",
    "import matplotlib.pyplot as plt"
   ]
  },
  {
   "cell_type": "code",
   "execution_count": 31,
   "id": "24611ff7-ae3c-430f-a2bd-3965764a37a5",
   "metadata": {},
   "outputs": [],
   "source": [
    "# hangi veriden hangi plot cikar\n",
    "# barplot: kategorik feature\n",
    "# histogram: single numeric feature\n",
    "# iki numericten scatterplot cikar.\n",
    "# histogrami cizilenin boxplotu da cizilir"
   ]
  },
  {
   "cell_type": "markdown",
   "id": "d000aa6c-bdbe-4719-9927-75bd3ed6b573",
   "metadata": {},
   "source": [
    "# bar chart and pie chart from categorical data\n",
    "\n",
    "There are two ways:\n",
    "\n",
    "1. sns.countplot\n",
    "\n",
    "2. sns.barplot"
   ]
  },
  {
   "cell_type": "code",
   "execution_count": 33,
   "id": "b6f17b6f-b725-4d6a-89d1-45c0289acf71",
   "metadata": {},
   "outputs": [
    {
     "data": {
      "image/png": "[encoded data removed]",
      "text/plain": [
       "<Figure size 432x288 with 1 Axes>"
      ]
     },
     "metadata": {
      "needs_background": "light"
     },
     "output_type": "display_data"
    }
   ],
   "source": [
    "# countplot kategorilerin frekanslarını/sayılarını verdi\n",
    "sns.countplot(x= \"origin\", data = df);  # son ; grafik üstü matplotlib yazısnı kaldırmak icin"
   ]
  },
  {
   "cell_type": "code",
   "execution_count": 35,
   "id": "4309d082-2142-44a2-8635-8f382b9ea52f",
   "metadata": {},
   "outputs": [
    {
     "data": {
      "image/png": "[encoded data removed]",
      "text/plain": [
       "<Figure size 432x288 with 1 Axes>"
      ]
     },
     "metadata": {
      "needs_background": "light"
     },
     "output_type": "display_data"
    }
   ],
   "source": [
    "# ikinci yol barplot\n",
    "sns.barplot(x= \"origin\", y=\"horsepower\", data = df);  # bar plotta fark her iki eksende iki farklı degisken var\n",
    "# sadece frekans saydirmak icin countplot; ama kategori bazında hesaplama yapmak icin barplot\n",
    "\n",
    "# barplotta üstteki cizgiler bunun bir istatistiki hesaplama oldugunu gosterir. confidence interval bu default olarak,\n",
    "# ama std de yapılabilir.\n",
    "\n",
    "# sns.barplot : Docstring: Show point estimates and confidence intervals as rectangular bars."
   ]
  },
  {
   "cell_type": "code",
   "execution_count": 37,
   "id": "db9afd45-2230-4145-ad64-9ccfde45e168",
   "metadata": {},
   "outputs": [
    {
     "data": {
      "image/png": "[encoded data removed]",
      "text/plain": [
       "<Figure size 432x432 with 1 Axes>"
      ]
     },
     "metadata": {},
     "output_type": "display_data"
    }
   ],
   "source": [
    "# pie chart \n",
    "labels = df.origin.unique()\n",
    "sizes = df.origin.value_counts()\n",
    "explode = (0, 0.1, 0)  # only \"explode\" the 2nd slice (i.e. 'Hogs')\n",
    "fig1, ax1 = plt.subplots(figsize=(6,6))\n",
    "ax1.pie(sizes, explode=explode, labels=labels, autopct='%1.1f%%',\n",
    "        shadow=True, startangle=90)\n",
    "ax1.axis('equal')  # Equal aspect ratio ensures that pie is drawn as a circle.\n",
    "plt.show()"
   ]
  },
  {
   "cell_type": "markdown",
   "id": "597181de-498d-4584-a185-cb803072a670",
   "metadata": {},
   "source": [
    "# Charts and Visualization for Numerical Data\n",
    "\n",
    "# 1. sns.histplot()\n",
    "\n",
    "Syntax: seaborn.histplot(data, x, y, hue, stat, bins, binwidth, discrete, kde, log_scale)\n",
    "\n",
    "kde default olarak False, True yaparsak kernel density estimate i de verir"
   ]
  },
  {
   "cell_type": "code",
   "execution_count": 38,
   "id": "0bd608d5-b249-42d3-9832-2eaa535d67ec",
   "metadata": {},
   "outputs": [
    {
     "data": {
      "image/png": "[encoded data removed]",
      "text/plain": [
       "<Figure size 432x288 with 1 Axes>"
      ]
     },
     "metadata": {
      "needs_background": "light"
     },
     "output_type": "display_data"
    }
   ],
   "source": [
    "# sadece 1 numeric featuredan ya histogram ya boxplotu cizilir.\n",
    "\n",
    "sns.histplot(x=\"horsepower\", data=df);"
   ]
  },
  {
   "cell_type": "code",
   "execution_count": 39,
   "id": "ae8dca66-37f4-43a3-9ade-e89477c0aaab",
   "metadata": {},
   "outputs": [
    {
     "data": {
      "image/png": "[encoded data removed]",
      "text/plain": [
       "<Figure size 432x288 with 1 Axes>"
      ]
     },
     "metadata": {
      "needs_background": "light"
     },
     "output_type": "display_data"
    }
   ],
   "source": [
    "sns.histplot(x=\"horsepower\", data=df, kde = True);"
   ]
  },
  {
   "cell_type": "code",
   "execution_count": 40,
   "id": "38d1efa0-0866-4ecf-8a94-8976bb9eafef",
   "metadata": {},
   "outputs": [
    {
     "data": {
      "image/png": "[encoded data removed]",
      "text/plain": [
       "<Figure size 432x288 with 1 Axes>"
      ]
     },
     "metadata": {
      "needs_background": "light"
     },
     "output_type": "display_data"
    }
   ],
   "source": [
    "# sns.kdeplot()\n",
    "sns.kdeplot(x=\"horsepower\", data=df);"
   ]
  },
  {
   "cell_type": "markdown",
   "id": "f9edbfef-a432-4c24-a8ea-c8291ce9a8bd",
   "metadata": {},
   "source": [
    "# sns.boxplot()\n",
    "\n",
    "Box Plot is the visual representation of the depicting groups of numerical data through their quartiles. Boxplot is also used for detect the outlier in data set. It captures the summary of the data efficiently with a simple box and whiskers and allows us to compare easily across groups. Boxplot summarizes a sample data using 25th, 50th and 75th percentiles. These percentiles are also known as the lower quartile, median and upper quartile.\n",
    "\n",
    "A box plot consist of 5 things.\n",
    "\n",
    "Minimum\n",
    "\n",
    "First Quartile or 25%\n",
    "\n",
    "Median (Second Quartile) or 50%\n",
    "\n",
    "Third Quartile or 75%\n",
    "\n",
    "Maximum"
   ]
  },
  {
   "cell_type": "code",
   "execution_count": 41,
   "id": "b7802a79-a2b7-4001-9be8-598571c539a1",
   "metadata": {},
   "outputs": [
    {
     "data": {
      "image/png": "[encoded data removed]",
      "text/plain": [
       "<Figure size 432x288 with 1 Axes>"
      ]
     },
     "metadata": {
      "needs_background": "light"
     },
     "output_type": "display_data"
    }
   ],
   "source": [
    "sns.boxplot(x=\"horsepower\", data=df);\n",
    "# box plot temel statistics'leri bir bakışta görmemizi sağlıyor. Bu anlamda dataya ilk bakış için boxplot kullanırız"
   ]
  },
  {
   "cell_type": "code",
   "execution_count": 42,
   "id": "8165e059-3b7d-4b9d-bd44-22163f72c239",
   "metadata": {},
   "outputs": [
    {
     "data": {
      "image/png": "[encoded data removed]",
      "text/plain": [
       "<Figure size 432x288 with 1 Axes>"
      ]
     },
     "metadata": {
      "needs_background": "light"
     },
     "output_type": "display_data"
    }
   ],
   "source": [
    "# boxplotu dik yapmak icin x yerine y\n",
    "\n",
    "sns.boxplot(y=\"horsepower\", data=df);"
   ]
  },
  {
   "cell_type": "code",
   "execution_count": 43,
   "id": "09d49cee-74c1-4560-82df-f5a7e35c052a",
   "metadata": {},
   "outputs": [
    {
     "data": {
      "image/png": "[encoded data removed]",
      "text/plain": [
       "<Figure size 432x288 with 1 Axes>"
      ]
     },
     "metadata": {
      "needs_background": "light"
     },
     "output_type": "display_data"
    }
   ],
   "source": [
    "# farklı horsepowerların boxplotunu cizdirebiliriz\n",
    "sns.boxplot(x=\"horsepower\", y= \"origin\", data=df);"
   ]
  },
  {
   "cell_type": "markdown",
   "id": "25b64d5e-7c2f-428c-a272-5737e7d409f2",
   "metadata": {},
   "source": [
    "# sns.scatterplot() \n",
    "\n",
    "Parameters:\n",
    "    \n",
    "x, y: Input data variables that should be numeric.\n",
    "\n",
    "data: Dataframe where each column is a variable and each row is an observation."
   ]
  },
  {
   "cell_type": "code",
   "execution_count": 44,
   "id": "7913b9d0-3917-4439-96b3-377e36cb842c",
   "metadata": {},
   "outputs": [
    {
     "data": {
      "image/png": "[encoded data removed]",
      "text/plain": [
       "<Figure size 432x288 with 1 Axes>"
      ]
     },
     "metadata": {
      "needs_background": "light"
     },
     "output_type": "display_data"
    }
   ],
   "source": [
    "sns.scatterplot(x=\"horsepower\", y=\"weight\", data = df);\n",
    "\n",
    "# 2 numeric features\n",
    "# positive-strong bir ilişki var\n",
    "# corr : 0.86 (iki asagida df.corr)"
   ]
  },
  {
   "cell_type": "code",
   "execution_count": null,
   "id": "c6372ce2-5b83-4d8b-bb35-937dc9992066",
   "metadata": {},
   "outputs": [],
   "source": []
  }
 ],
 "metadata": {
  "kernelspec": {
   "display_name": "Python 3 (ipykernel)",
   "language": "python",
   "name": "python3"
  },
  "language_info": {
   "codemirror_mode": {
    "name": "ipython",
    "version": 3
   },
   "file_extension": ".py",
   "mimetype": "text/x-python",
   "name": "python",
   "nbconvert_exporter": "python",
   "pygments_lexer": "ipython3",
   "version": "3.9.12"
  }
 },
 "nbformat": 4,
 "nbformat_minor": 5
}
