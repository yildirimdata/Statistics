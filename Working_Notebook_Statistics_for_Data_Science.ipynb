{
 "cells": [
  {
   "cell_type": "markdown",
   "id": "4640dba7-0e74-4691-954c-f53f12009585",
   "metadata": {},
   "source": [
    "# Statistics for Data Science"
   ]
  },
  {
   "cell_type": "markdown",
   "id": "25b495ee-392d-4386-b49b-3cd589f04758",
   "metadata": {},
   "source": [
    "TASK: Let's calculate the age distribution of a population living in a city with 10k people"
   ]
  },
  {
   "cell_type": "code",
   "execution_count": 2,
   "id": "f90869b4-99a8-4600-985b-816adbb50ccf",
   "metadata": {},
   "outputs": [
    {
     "name": "stdout",
     "output_type": "stream",
     "text": [
      "[74 68 64 21 25 40  1  9 54 63]\n"
     ]
    }
   ],
   "source": [
    "# First we have to create a serie with 10k people. let's say their ages range from 0 to 80.\n",
    "# we use numpy's random module and randint function for that\n",
    "\n",
    "import numpy as np\n",
    "\n",
    "population = np.random.randint(0,80,10000)  # this means 10k numbers from 0 to 80\n",
    "# let's print the first ten to check our serie\n",
    "print(population[0:10])"
   ]
  },
  {
   "cell_type": "code",
   "execution_count": 3,
   "id": "af79ff49-abe9-4c6e-9a9f-56969be2c8df",
   "metadata": {},
   "outputs": [
    {
     "name": "stdout",
     "output_type": "stream",
     "text": [
      "[18  7  4 28 33 79 44 27 62  5]\n"
     ]
    }
   ],
   "source": [
    "# the second step is to get a sample from the population. we can again use random module for that.\n",
    "# but first, we should set a seed value\n",
    "# The random number generator needs a number to start with (a seed value), to be able to generate a random number.\n",
    "\n",
    "np.random.seed(115)\n",
    "\n",
    "sample = np.random.choice(a = population, size = 100)\n",
    "print(sample[0:10])"
   ]
  },
  {
   "cell_type": "code",
   "execution_count": 4,
   "id": "cd25ad8d-af3b-4611-a38b-e3f2ff712b6a",
   "metadata": {},
   "outputs": [
    {
     "name": "stdout",
     "output_type": "stream",
     "text": [
      "41.19\n",
      "39.5502\n"
     ]
    }
   ],
   "source": [
    "print(sample.mean())\n",
    "print(population.mean())\n",
    "\n",
    "# they are almost same. this is the power of sampling. It's impossible to survey 10k or 1 million people. \n",
    "# but as it's in this case, sample resembles the population efficiently and it's easy to analyze."
   ]
  },
  {
   "cell_type": "markdown",
   "id": "502843d9-6472-40f6-9c23-12bd5c17c2e0",
   "metadata": {},
   "source": [
    "for Numpy random seed method: https://www.w3schools.com/python/ref_random_seed.asp"
   ]
  },
  {
   "cell_type": "code",
   "execution_count": 9,
   "id": "5816bfae-f972-451d-a20d-1532af38e50e",
   "metadata": {},
   "outputs": [
    {
     "name": "stdout",
     "output_type": "stream",
     "text": [
      "39.464999999999996\n"
     ]
    }
   ],
   "source": [
    "# sample distribution: let's get more samples from the distribution and check their mean\n",
    "sample1 = np.random.choice(a = population, size = 100)\n",
    "sample2 = np.random.choice(a = population, size = 100)\n",
    "sample3 = np.random.choice(a = population, size = 100)\n",
    "sample4 = np.random.choice(a = population, size = 100)\n",
    "sample5 = np.random.choice(a = population, size = 100)\n",
    "sample6 = np.random.choice(a = population, size = 100)\n",
    "sample7 = np.random.choice(a = population, size = 100)\n",
    "sample8 = np.random.choice(a = population, size = 100)\n",
    "sample9 = np.random.choice(a = population, size = 100)\n",
    "\n",
    "print((sample.mean()+sample1.mean()+sample2.mean()+sample3.mean()+sample4.mean()+sample5.mean()+\n",
    "       sample6.mean()+sample7.mean()+sample8.mean()+sample9.mean()) / 10)\n"
   ]
  },
  {
   "cell_type": "code",
   "execution_count": null,
   "id": "5313ef59-119f-4543-87a8-0d9ab18ef895",
   "metadata": {},
   "outputs": [],
   "source": []
  },
  {
   "cell_type": "code",
   "execution_count": null,
   "id": "90c6d447-c3b3-4411-911d-bb9ac3afa9a6",
   "metadata": {},
   "outputs": [],
   "source": []
  },
  {
   "cell_type": "code",
   "execution_count": null,
   "id": "3453646e-3e83-4853-91d3-bfaa24de3542",
   "metadata": {},
   "outputs": [],
   "source": []
  },
  {
   "cell_type": "code",
   "execution_count": null,
   "id": "413113ed-8ccc-449e-96d5-531d16fd3b6b",
   "metadata": {},
   "outputs": [],
   "source": []
  }
 ],
 "metadata": {
  "kernelspec": {
   "display_name": "Python 3 (ipykernel)",
   "language": "python",
   "name": "python3"
  },
  "language_info": {
   "codemirror_mode": {
    "name": "ipython",
    "version": 3
   },
   "file_extension": ".py",
   "mimetype": "text/x-python",
   "name": "python",
   "nbconvert_exporter": "python",
   "pygments_lexer": "ipython3",
   "version": "3.9.12"
  }
 },
 "nbformat": 4,
 "nbformat_minor": 5
}
